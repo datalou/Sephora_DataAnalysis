{
 "cells": [
  {
   "cell_type": "code",
   "execution_count": 5,
   "id": "b150d48f-d8f5-4d1b-81ec-f3b10508e3a2",
   "metadata": {},
   "outputs": [],
   "source": [
    "import pandas as pd"
   ]
  },
  {
   "cell_type": "code",
   "execution_count": 6,
   "id": "70eb49eb-3184-4b9a-b4e3-f7fc0f5479f3",
   "metadata": {},
   "outputs": [],
   "source": [
    "import os"
   ]
  },
  {
   "cell_type": "code",
   "execution_count": 7,
   "id": "76c18f40-3cc5-4945-b67c-66153c580998",
   "metadata": {},
   "outputs": [],
   "source": [
    "os.chdir('..')"
   ]
  },
  {
   "cell_type": "code",
   "execution_count": 8,
   "id": "bffbc2b9-c783-4130-a0b6-c51596bae8b7",
   "metadata": {},
   "outputs": [
    {
     "name": "stdout",
     "output_type": "stream",
     "text": [
      "--name\n",
      "-e\n",
      "-p\n",
      "-v\n",
      "\u001b[34mAnaconda\u001b[m\u001b[m\n",
      "\u001b[34mApplications\u001b[m\u001b[m\n",
      "\u001b[34mBlobConsole\u001b[m\u001b[m\n",
      "\u001b[34mCode\u001b[m\u001b[m\n",
      "\u001b[34mCreative Cloud Files\u001b[m\u001b[m\n",
      "\u001b[34mCursoPracticoJS\u001b[m\u001b[m\n",
      "\u001b[34mDesktop\u001b[m\u001b[m\n",
      "\u001b[34mDocuments\u001b[m\u001b[m\n",
      "\u001b[34mDownloads\u001b[m\u001b[m\n",
      "\u001b[34mLibrary\u001b[m\u001b[m\n",
      "\u001b[34mMovies\u001b[m\u001b[m\n",
      "\u001b[34mMusic\u001b[m\u001b[m\n",
      "\u001b[34mPictures\u001b[m\u001b[m\n",
      "\u001b[34mPlatziAnaconda\u001b[m\u001b[m\n",
      "\u001b[34mPublic\u001b[m\u001b[m\n",
      "README.md\n",
      "\u001b[34mVirtualBox VMs\u001b[m\u001b[m\n",
      "coe\n",
      "\u001b[34mcss\u001b[m\u001b[m\n",
      "\u001b[34mcurso-profesional-python\u001b[m\u001b[m\n",
      "\u001b[34mgraficado\u001b[m\u001b[m\n",
      "\u001b[34mhyperblog\u001b[m\u001b[m\n",
      "\u001b[34mimagenes\u001b[m\u001b[m\n",
      "\u001b[34mlourdecitanburgos@gmail.com Creative Cloud Files\u001b[m\u001b[m\n",
      "mysql-community-server_5.7.32-1ubuntu18.04_amd64.deb\n",
      "\u001b[34mnotebooks\u001b[m\u001b[m\n",
      "\u001b[34mopt\u001b[m\u001b[m\n",
      "\u001b[34mproyecto1\u001b[m\u001b[m\n",
      "\u001b[34mproyecto_ejemplo\u001b[m\u001b[m\n",
      "vacio.txt\n",
      "\u001b[34mweb_scrapper_data_eng\u001b[m\u001b[m\n"
     ]
    }
   ],
   "source": [
    "!ls"
   ]
  },
  {
   "cell_type": "code",
   "execution_count": null,
   "id": "efef8f81-81fc-4891-b815-f8678e982104",
   "metadata": {},
   "outputs": [],
   "source": []
  }
 ],
 "metadata": {
  "kernelspec": {
   "display_name": "Python 3 (ipykernel)",
   "language": "python",
   "name": "python3"
  },
  "language_info": {
   "codemirror_mode": {
    "name": "ipython",
    "version": 3
   },
   "file_extension": ".py",
   "mimetype": "text/x-python",
   "name": "python",
   "nbconvert_exporter": "python",
   "pygments_lexer": "ipython3",
   "version": "3.9.13"
  }
 },
 "nbformat": 4,
 "nbformat_minor": 5
}
