{
 "cells": [
  {
   "cell_type": "code",
   "execution_count": null,
   "id": "a480cdf9-806d-4463-8eba-608e8cb40a01",
   "metadata": {},
   "outputs": [],
   "source": [
    "%matplotlib inline\n",
    "import pandas as pd"
   ]
  },
  {
   "cell_type": "code",
   "execution_count": null,
   "id": "f65bcabb-d81d-4dc5-921b-36e25273d064",
   "metadata": {},
   "outputs": [],
   "source": [
    "sephora_df = pd.read_csv('product_info.csv')"
   ]
  },
  {
   "cell_type": "code",
   "execution_count": null,
   "id": "5e19b2ac-e66a-4a45-b359-0bff0c03b03d",
   "metadata": {},
   "outputs": [],
   "source": [
    "sephora_df.head()"
   ]
  },
  {
   "cell_type": "code",
   "execution_count": null,
   "id": "cb3a0082-e364-4060-aa59-514cd80b157c",
   "metadata": {},
   "outputs": [],
   "source": [
    "sephora_df.shape\n"
   ]
  },
  {
   "cell_type": "markdown",
   "id": "d2925b0e-5a3b-4ad9-af58-54daa4dc8652",
   "metadata": {},
   "source": [
    "## Probar un modelo supervisado "
   ]
  },
  {
   "cell_type": "markdown",
   "id": "97f0b059-70bd-4bfa-9d2b-a893739bd636",
   "metadata": {},
   "source": [
    "Arreglando null\n",
    "\n",
    "usamos una lista que contiene el tipo de datos de cada columna\n",
    "si el typo es “object” la columna es categorica entonces:\n",
    "llenamos nulos con la moda\n",
    "hacemos encoding de variables categoricas osea convertimos variables categoricas a numeros.\n",
    "si no es typo “object” la columna es numerica entonces:\n",
    "llenamos nulos con la mediana\n",
    "ahora tenemos un dataset con puras variables numericas y sin datos nulos, listos para usarse en un modelo de ML"
   ]
  },
  {
   "cell_type": "code",
   "execution_count": null,
   "id": "3b2a7325-c648-44ab-bb64-5b691eb32eaf",
   "metadata": {},
   "outputs": [],
   "source": [
    "data = sephora_df.copy()\n",
    "for i, column in enumerate(list([str(d) for d in data.dtypes])):\n",
    "    if column == \"object\":\n",
    "        data[data.columns[i]] = data[data.columns[i]].fillna(data[data.columns[i]].mode())\n",
    "        data[data.columns[i]] = data[data.columns[i]].astype(\"category\").cat.codes\n",
    "    else:\n",
    "        data[data.columns[i]] = data[data.columns[i]].fillna(data[data.columns[i]].median())"
   ]
  },
  {
   "cell_type": "code",
   "execution_count": null,
   "id": "7c1fcca1-77c5-4853-8e6e-ef15c8e0491d",
   "metadata": {},
   "outputs": [],
   "source": [
    "data.head(5)"
   ]
  },
  {
   "cell_type": "code",
   "execution_count": null,
   "id": "77aefa0f-15d1-47ba-8acf-0af9e48afe1f",
   "metadata": {},
   "outputs": [],
   "source": [
    "from sklearn.ensemble import RandomForestRegressor\n",
    "from sklearn.model_selection import train_test_split "
   ]
  },
  {
   "cell_type": "code",
   "execution_count": null,
   "id": "d8c5a72e-bf7d-48c5-94be-5ec5a95e76fd",
   "metadata": {},
   "outputs": [],
   "source": [
    "y = data.pop('brand_id')\n",
    "X = data.copy()"
   ]
  },
  {
   "cell_type": "code",
   "execution_count": null,
   "id": "cbdc2813-5bd3-4d59-9b38-37bb1aac207b",
   "metadata": {},
   "outputs": [],
   "source": [
    "X_train, X_test, y_train, y_test = train_test_split(X, y, test_size=0.33, random_state=42)"
   ]
  },
  {
   "cell_type": "code",
   "execution_count": null,
   "id": "a270ea28-6b40-4d89-8e00-93a1e4b0b80c",
   "metadata": {},
   "outputs": [],
   "source": [
    "clf = RandomForestRegressor(n_estimators=1000, max_depth = 4)"
   ]
  },
  {
   "cell_type": "code",
   "execution_count": null,
   "id": "f13432cb-b34c-417d-abf0-830441de3611",
   "metadata": {},
   "outputs": [],
   "source": [
    "clf.fit(X_train, y_train)"
   ]
  },
  {
   "cell_type": "code",
   "execution_count": null,
   "id": "ce8fd8fb-c83f-4a6b-b56e-deb542a1ea65",
   "metadata": {},
   "outputs": [],
   "source": [
    "from sklearn.metrics import r2_score"
   ]
  },
  {
   "cell_type": "code",
   "execution_count": null,
   "id": "3618ec23-c869-4a83-b575-df1fc8be5ef8",
   "metadata": {},
   "outputs": [],
   "source": [
    "r2_score(y_test, clf.predict(X_test))"
   ]
  },
  {
   "cell_type": "code",
   "execution_count": null,
   "id": "c2373e7f-9916-4117-a837-1428509a1a4c",
   "metadata": {},
   "outputs": [],
   "source": []
  }
 ],
 "metadata": {
  "kernelspec": {
   "display_name": "Python 3 (ipykernel)",
   "language": "python",
   "name": "python3"
  },
  "language_info": {
   "codemirror_mode": {
    "name": "ipython",
    "version": 3
   },
   "file_extension": ".py",
   "mimetype": "text/x-python",
   "name": "python",
   "nbconvert_exporter": "python",
   "pygments_lexer": "ipython3",
   "version": "3.9.13"
  }
 },
 "nbformat": 4,
 "nbformat_minor": 5
}
