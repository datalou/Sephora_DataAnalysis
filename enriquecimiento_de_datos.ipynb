{
 "cells": [
  {
   "cell_type": "code",
   "execution_count": 34,
   "id": "38b02240-4d40-4788-8bcb-caaac514427c",
   "metadata": {},
   "outputs": [],
   "source": [
    "%matplotlib inline\n",
    "import pandas as pd"
   ]
  },
  {
   "cell_type": "markdown",
   "id": "1bbf8dce-99ab-44a2-8f88-488c4f910e44",
   "metadata": {},
   "source": [
    "## Empezamos con una expansion de datos que tenemos"
   ]
  },
  {
   "cell_type": "code",
   "execution_count": 35,
   "id": "dc8b10df-b629-4271-894d-328a42c72770",
   "metadata": {},
   "outputs": [],
   "source": [
    "sephora_df2 = pd.read_csv('reviews_0_250.csv' , low_memory=False)"
   ]
  },
  {
   "cell_type": "code",
   "execution_count": 36,
   "id": "b376ae1f-8111-489a-b750-bfe138cbfab8",
   "metadata": {},
   "outputs": [
    {
     "data": {
      "text/plain": [
       "Unnamed: 0                    int64\n",
       "author_id                    object\n",
       "rating                        int64\n",
       "is_recommended              float64\n",
       "helpfulness                 float64\n",
       "total_feedback_count          int64\n",
       "total_neg_feedback_count      int64\n",
       "total_pos_feedback_count      int64\n",
       "submission_time              object\n",
       "review_text                  object\n",
       "review_title                 object\n",
       "skin_tone                    object\n",
       "eye_color                    object\n",
       "skin_type                    object\n",
       "hair_color                   object\n",
       "product_id                   object\n",
       "product_name                 object\n",
       "brand_name                   object\n",
       "price_usd                   float64\n",
       "dtype: object"
      ]
     },
     "execution_count": 36,
     "metadata": {},
     "output_type": "execute_result"
    }
   ],
   "source": [
    "sephora_df2.dtypes"
   ]
  },
  {
   "cell_type": "code",
   "execution_count": 37,
   "id": "9c39ca1f-6df7-415b-8a85-ab7a8eb9ebd5",
   "metadata": {},
   "outputs": [],
   "source": [
    "sephora_df2['submission_time'] = pd.to_datetime(sephora_df2['submission_time'])"
   ]
  },
  {
   "cell_type": "code",
   "execution_count": 38,
   "id": "01ea5ec7-a854-4f12-b515-a54a16f1c3fb",
   "metadata": {},
   "outputs": [],
   "source": [
    "sephora_df2['DIA'] = sephora_df2['submission_time'].apply(lambda x: x.day)"
   ]
  },
  {
   "cell_type": "code",
   "execution_count": 39,
   "id": "bec6f406-a0df-4dc1-ad0f-75bb4dd398ce",
   "metadata": {},
   "outputs": [],
   "source": [
    "sephora_df2['MES'] = sephora_df2['submission_time'].apply(lambda x: x.month)"
   ]
  },
  {
   "cell_type": "code",
   "execution_count": 40,
   "id": "7040052b-0266-4901-b926-905900389be5",
   "metadata": {},
   "outputs": [],
   "source": [
    "sephora_df2['ANO'] = sephora_df2['submission_time'].apply(lambda x: x.year)"
   ]
  },
  {
   "cell_type": "markdown",
   "id": "a9941afe-6df3-43b8-aff1-704531b97520",
   "metadata": {},
   "source": [
    "## Proyectemos unas variables contra otras\n"
   ]
  },
  {
   "cell_type": "code",
   "execution_count": 41,
   "id": "db6e86f2-4fc0-4467-b007-eb4515b32c35",
   "metadata": {},
   "outputs": [],
   "source": [
    "skin_tone_product_name = sephora_df2['product_name'].value_counts().to_dict()"
   ]
  },
  {
   "cell_type": "code",
   "execution_count": 43,
   "id": "85847757-57f5-44a6-b219-6929730ecde3",
   "metadata": {},
   "outputs": [
    {
     "data": {
      "text/plain": [
       "['Lip Sleeping Mask Intense Hydration with Vitamin C',\n",
       " 'Soy Hydrating Gentle Face Cleanser',\n",
       " '100 percent Pure Argan Oil',\n",
       " 'Ultra Repair Cream Intense Hydration',\n",
       " 'Alpha Beta Extra Strength Daily Peel Pads']"
      ]
     },
     "execution_count": 43,
     "metadata": {},
     "output_type": "execute_result"
    }
   ],
   "source": [
    "list(skin_tone_product_name.keys())[0:5]"
   ]
  },
  {
   "cell_type": "code",
   "execution_count": 42,
   "id": "5b8a7901-e869-4b54-8250-14b049b82d11",
   "metadata": {},
   "outputs": [],
   "source": [
    "price_usd_mean_skin_tone = sephora_df2.groupby('skin_tone')['price_usd'].mean()"
   ]
  },
  {
   "cell_type": "code",
   "execution_count": 44,
   "id": "87d85ffc-ba6d-4c3d-b34f-22f97172d166",
   "metadata": {},
   "outputs": [
    {
     "data": {
      "text/plain": [
       "skin_tone\n",
       "dark           37.644099\n",
       "deep           43.364561\n",
       "ebony          50.000000\n",
       "fair           46.110238\n",
       "fairLight      46.687476\n",
       "light          46.866590\n",
       "lightMedium    47.096471\n",
       "medium         45.707113\n",
       "mediumTan      45.830621\n",
       "notSureST      26.977317\n",
       "olive          40.768161\n",
       "porcelain      36.946981\n",
       "rich           43.782289\n",
       "tan            43.666442\n",
       "Name: price_usd, dtype: float64"
      ]
     },
     "execution_count": 44,
     "metadata": {},
     "output_type": "execute_result"
    }
   ],
   "source": [
    "price_usd_mean_skin_tone"
   ]
  },
  {
   "cell_type": "code",
   "execution_count": 45,
   "id": "4e9c31bc-7b92-4539-bc64-c5c554d09851",
   "metadata": {},
   "outputs": [],
   "source": [
    "price_usd_mean_skin_type=sephora_df2.groupby('skin_type')['price_usd'].mean()"
   ]
  },
  {
   "cell_type": "code",
   "execution_count": 46,
   "id": "f1ce11d5-ebc4-469f-b431-22e576c9319e",
   "metadata": {},
   "outputs": [
    {
     "data": {
      "text/plain": [
       "skin_type\n",
       "combination    46.359403\n",
       "dry            46.573980\n",
       "normal         47.037109\n",
       "oily           43.461316\n",
       "Name: price_usd, dtype: float64"
      ]
     },
     "execution_count": 46,
     "metadata": {},
     "output_type": "execute_result"
    }
   ],
   "source": [
    "price_usd_mean_skin_type\n"
   ]
  },
  {
   "cell_type": "code",
   "execution_count": 47,
   "id": "8a6d8901-7a4d-4bd8-8b5e-58f8222fcb73",
   "metadata": {},
   "outputs": [],
   "source": [
    "rating_mean_skin_tone = sephora_df2.groupby('skin_tone')['rating'].mean()"
   ]
  },
  {
   "cell_type": "code",
   "execution_count": 48,
   "id": "4f045f8a-007e-4342-89c6-9cafcdc5c0cf",
   "metadata": {},
   "outputs": [
    {
     "data": {
      "text/plain": [
       "skin_tone\n",
       "dark           4.394410\n",
       "deep           4.275589\n",
       "ebony          2.000000\n",
       "fair           4.281960\n",
       "fairLight      4.263197\n",
       "light          4.303305\n",
       "lightMedium    4.324242\n",
       "medium         4.315736\n",
       "mediumTan      4.290374\n",
       "notSureST      4.097561\n",
       "olive          4.341291\n",
       "porcelain      4.313462\n",
       "rich           4.329765\n",
       "tan            4.310585\n",
       "Name: rating, dtype: float64"
      ]
     },
     "execution_count": 48,
     "metadata": {},
     "output_type": "execute_result"
    }
   ],
   "source": [
    "rating_mean_skin_tone"
   ]
  },
  {
   "cell_type": "code",
   "execution_count": 49,
   "id": "8b918669-bae8-4c45-aa6e-6655e830946e",
   "metadata": {},
   "outputs": [],
   "source": [
    "rating_mean_price_usd = sephora_df2.groupby('price_usd')['rating'].mean()"
   ]
  },
  {
   "cell_type": "code",
   "execution_count": 50,
   "id": "77a2b0af-5361-4e5b-bb65-eb61d378aeb1",
   "metadata": {},
   "outputs": [
    {
     "data": {
      "text/plain": [
       "price_usd\n",
       "3.00      4.338285\n",
       "5.99      3.604000\n",
       "6.00      4.241415\n",
       "6.50      4.145216\n",
       "7.00      4.561258\n",
       "            ...   \n",
       "132.00    4.402994\n",
       "145.00    4.343320\n",
       "195.00    4.046434\n",
       "245.00    4.080989\n",
       "380.00    4.057329\n",
       "Name: rating, Length: 92, dtype: float64"
      ]
     },
     "execution_count": 50,
     "metadata": {},
     "output_type": "execute_result"
    }
   ],
   "source": [
    "rating_mean_price_usd"
   ]
  }
 ],
 "metadata": {
  "kernelspec": {
   "display_name": "Python 3 (ipykernel)",
   "language": "python",
   "name": "python3"
  },
  "language_info": {
   "codemirror_mode": {
    "name": "ipython",
    "version": 3
   },
   "file_extension": ".py",
   "mimetype": "text/x-python",
   "name": "python",
   "nbconvert_exporter": "python",
   "pygments_lexer": "ipython3",
   "version": "3.9.13"
  }
 },
 "nbformat": 4,
 "nbformat_minor": 5
}
